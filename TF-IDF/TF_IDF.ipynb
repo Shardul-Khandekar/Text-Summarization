{
  "nbformat": 4,
  "nbformat_minor": 0,
  "metadata": {
    "colab": {
      "provenance": []
    },
    "kernelspec": {
      "name": "python3",
      "display_name": "Python 3"
    },
    "language_info": {
      "name": "python"
    }
  },
  "cells": [
    {
      "cell_type": "code",
      "source": [
        "from nltk import sent_tokenize, word_tokenize, PorterStemmer\n",
        "from nltk.corpus import stopwords\n",
        "import math"
      ],
      "metadata": {
        "id": "e5hEJ3Fw_H2F"
      },
      "execution_count": 1,
      "outputs": []
    },
    {
      "cell_type": "code",
      "source": [
        "import nltk\n",
        "nltk.download('punkt')\n",
        "nltk.download('stopwords')"
      ],
      "metadata": {
        "colab": {
          "base_uri": "https://localhost:8080/"
        },
        "id": "IVzkXkgHrv-u",
        "outputId": "b6012121-6dec-4494-c17d-2ee0ef6517e6"
      },
      "execution_count": 2,
      "outputs": [
        {
          "output_type": "stream",
          "name": "stderr",
          "text": [
            "[nltk_data] Downloading package punkt to /root/nltk_data...\n",
            "[nltk_data]   Package punkt is already up-to-date!\n",
            "[nltk_data] Downloading package stopwords to /root/nltk_data...\n",
            "[nltk_data]   Package stopwords is already up-to-date!\n"
          ]
        },
        {
          "output_type": "execute_result",
          "data": {
            "text/plain": [
              "True"
            ]
          },
          "metadata": {},
          "execution_count": 2
        }
      ]
    },
    {
      "cell_type": "code",
      "source": [
        "def create_frequency_matrix(sentences):\n",
        "\n",
        "  frequency_matrix = {}\n",
        "  stopWords = set(stopwords.words(\"english\"))\n",
        "  ps = PorterStemmer()\n",
        "\n",
        "  for sentence in sentences:\n",
        "    frequency_table = {}\n",
        "    # word_tokenize - Creates a list of words and punctuation marks\n",
        "    words = word_tokenize(sentence)\n",
        "    for word in words:\n",
        "      word = word.lower()\n",
        "      word = ps.stem(word)\n",
        "\n",
        "      # If the word is a stopword\n",
        "      if word in stopWords:\n",
        "        continue\n",
        "\n",
        "      if word in frequency_table:\n",
        "        frequency_table[word] += 1\n",
        "      else:\n",
        "        frequency_table[word] = 1\n",
        "\n",
        "      '''\n",
        "      Key Length - Using entire sentence as a key for each sentence might be\n",
        "      inefficient in terms of memory and readability\n",
        "      Uniqueness - The first 15 characters are usually enough to distinguish\n",
        "      between different sentences, especially if the sentences are of significant length.\n",
        "      However, this could potentially lead to collisions (two different\n",
        "      sentences having the same first 15 characters), but it's a trade-off\n",
        "      between key length and uniqueness.\n",
        "      '''\n",
        "    frequency_matrix[sentence[:15]] = frequency_table\n",
        "\n",
        "  return frequency_matrix"
      ],
      "metadata": {
        "id": "EPt93fy1CKt_"
      },
      "execution_count": 3,
      "outputs": []
    },
    {
      "cell_type": "code",
      "source": [
        "def create_term_frequency_matrix(frequency_matrix):\n",
        "\n",
        "  term_frequency_matrix = {}\n",
        "\n",
        "  for sentence, frequency_table in frequency_matrix.items():\n",
        "    term_frequency_table = {}\n",
        "\n",
        "    count_words_in_sentence = len(frequency_table)\n",
        "    for word, frequency in frequency_table.items():\n",
        "      term_frequency_table[word] = frequency / count_words_in_sentence\n",
        "\n",
        "    term_frequency_matrix[sentence] = term_frequency_table\n",
        "\n",
        "  return term_frequency_matrix"
      ],
      "metadata": {
        "id": "yrxQbB4WPPyV"
      },
      "execution_count": 4,
      "outputs": []
    },
    {
      "cell_type": "code",
      "source": [
        "def count_documents_containing_words(frequency_matrix):\n",
        "\n",
        "  # Iterate through every document, and update the count if the word is found\n",
        "  word_per_doc_table = {}\n",
        "  for sentence, frequency_table in frequency_matrix.items():\n",
        "    for word, frequency in frequency_table.items():\n",
        "      if word in word_per_doc_table:\n",
        "        word_per_doc_table[word] += 1\n",
        "      else:\n",
        "        word_per_doc_table[word] = 1\n",
        "\n",
        "  return word_per_doc_table"
      ],
      "metadata": {
        "id": "jICEb1E8YdVE"
      },
      "execution_count": 5,
      "outputs": []
    },
    {
      "cell_type": "code",
      "source": [
        "def create_idf_matrix(frequency_matrix, word_per_doc_table, total_documents):\n",
        "\n",
        "  idf_matrix = {}\n",
        "\n",
        "  for sentence, frequency_table in frequency_matrix.items():\n",
        "    idf_table = {}\n",
        "\n",
        "    for word, frequency in frequency_table.items():\n",
        "      idf_table[word] = math.log10(total_documents / word_per_doc_table[word])\n",
        "\n",
        "    idf_matrix[sentence] = idf_table\n",
        "\n",
        "  return idf_matrix"
      ],
      "metadata": {
        "id": "bvPEDMXdayI1"
      },
      "execution_count": 6,
      "outputs": []
    },
    {
      "cell_type": "code",
      "source": [
        "def create_tf_idf_matrix(term_frequency_matrix, idf_matrix):\n",
        "\n",
        "  tf_idf_matrix = {}\n",
        "  for (sentence1, frequency_table1), (sentence2, frequency_table2) in zip(term_frequency_matrix.items(), idf_matrix.items()):\n",
        "\n",
        "        tf_idf_table = {}\n",
        "\n",
        "        # Both the tables have the same key\n",
        "        for (word1, value1), (word2, value2) in zip(frequency_table1.items(), frequency_table2.items()):\n",
        "            tf_idf_table[word1] = float(value1 * value2)\n",
        "\n",
        "        tf_idf_matrix[sentence1] = tf_idf_table\n",
        "\n",
        "  return tf_idf_matrix"
      ],
      "metadata": {
        "id": "uwARK-gHcpky"
      },
      "execution_count": 7,
      "outputs": []
    },
    {
      "cell_type": "code",
      "source": [
        "def score_sentences(tf_idf_matrix):\n",
        "\n",
        "  sentence_scores = {}\n",
        "\n",
        "  for sentence, frequency_table in tf_idf_matrix.items():\n",
        "    total_score_per_sentence = 0\n",
        "    count_words_in_sentence = len(frequency_table)\n",
        "\n",
        "    for word, value in frequency_table.items():\n",
        "      total_score_per_sentence += value\n",
        "\n",
        "    sentence_scores[sentence] = total_score_per_sentence / count_words_in_sentence\n",
        "\n",
        "  return sentence_scores"
      ],
      "metadata": {
        "id": "95WdGruxplfW"
      },
      "execution_count": 8,
      "outputs": []
    },
    {
      "cell_type": "code",
      "source": [
        "def find_average_score(sentence_scores):\n",
        "\n",
        "  sum_values = 0\n",
        "  for key in sentence_scores:\n",
        "    sum_values += sentence_scores[key]\n",
        "\n",
        "  average = sum_values / len(sentence_scores)\n",
        "\n",
        "  return average"
      ],
      "metadata": {
        "id": "g1mD_p4zqnVu"
      },
      "execution_count": 9,
      "outputs": []
    },
    {
      "cell_type": "code",
      "source": [
        "def generate_summary(sentences, sentence_scores, threshold):\n",
        "\n",
        "  sentence_count = 0\n",
        "  summary = ''\n",
        "\n",
        "  for sentence in sentences:\n",
        "    if sentence[:15] in sentence_scores and sentence_scores[sentence[:15]] > threshold:\n",
        "      summary += \" \" + sentence\n",
        "      sentence_count += 1\n",
        "\n",
        "  return summary"
      ],
      "metadata": {
        "id": "31WP5Xt8rDwA"
      },
      "execution_count": 10,
      "outputs": []
    },
    {
      "cell_type": "code",
      "source": [
        "def run_summarization(text):\n",
        "\n",
        "  # sent_tokens returns a list of sentences from the text\n",
        "  sentences = sent_tokenize(text)\n",
        "  # print(sentences)\n",
        "  # Each sentence is considered as an equivalent to a document\n",
        "  total_documents = len(sentences)\n",
        "\n",
        "  frequency_matrix = create_frequency_matrix(sentences)\n",
        "  # print(frequency_matrix)\n",
        "\n",
        "  term_frequency_matrix = create_term_frequency_matrix(frequency_matrix)\n",
        "  # print(term_frequency_matrix)\n",
        "\n",
        "  # The IDF value for a word is calculated based on the number of documents that contain the word\n",
        "  count_documents_containing_word = count_documents_containing_words(frequency_matrix)\n",
        "  # print(count_documents_containing_word)\n",
        "\n",
        "  idf_matrix = create_idf_matrix(frequency_matrix, count_documents_containing_word, total_documents)\n",
        "  print(idf_matrix)\n",
        "\n",
        "  tf_idf_matrix = create_tf_idf_matrix(term_frequency_matrix, idf_matrix)\n",
        "\n",
        "  sentence_scores = score_sentences(tf_idf_matrix)\n",
        "\n",
        "  threshold = find_average_score(sentence_scores)\n",
        "\n",
        "  summary = generate_summary(sentences, sentence_scores, 1.3 * threshold)\n",
        "\n",
        "  return summary"
      ],
      "metadata": {
        "id": "LXS9ikQV-0XD"
      },
      "execution_count": 11,
      "outputs": []
    },
    {
      "cell_type": "code",
      "source": [
        "text = '''\n",
        "Those Who Are Resilient Stay In The Game Longer\n",
        "“On the mountains of truth you can never climb in vain: either you will reach a point higher up today, or you will be training your powers so that you will be able to climb higher tomorrow.” — Friedrich Nietzsche\n",
        "Challenges and setbacks are not meant to defeat you, but promote you. However, I realise after many years of defeats, it can crush your spirit and it is easier to give up than risk further setbacks and disappointments. Have you experienced this before? To be honest, I don’t have the answers. I can’t tell you what the right course of action is; only you will know. However, it’s important not to be discouraged by failure when pursuing a goal or a dream, since failure itself means different things to different people. To a person with a Fixed Mindset failure is a blow to their self-esteem, yet to a person with a Growth Mindset, it’s an opportunity to improve and find new ways to overcome their obstacles. Same failure, yet different responses. Who is right and who is wrong? Neither. Each person has a different mindset that decides their outcome. Those who are resilient stay in the game longer and draw on their inner means to succeed.\n",
        "\n",
        "I’ve coached mummy and mom clients who gave up after many years toiling away at their respective goal or dream. It was at that point their biggest breakthrough came. Perhaps all those years of perseverance finally paid off. It was the 19th Century’s minister Henry Ward Beecher who once said: “One’s best success comes after their greatest disappointments.” No one knows what the future holds, so your only guide is whether you can endure repeated defeats and disappointments and still pursue your dream. Consider the advice from the American academic and psychologist Angela Duckworth who writes in Grit: The Power of Passion and Perseverance: “Many of us, it seems, quit what we start far too early and far too often. Even more than the effort a gritty person puts in on a single day, what matters is that they wake up the next day, and the next, ready to get on that treadmill and keep going.”\n",
        "\n",
        "I know one thing for certain: don’t settle for less than what you’re capable of, but strive for something bigger. Some of you reading this might identify with this message because it resonates with you on a deeper level. For others, at the end of their tether the message might be nothing more than a trivial pep talk. What I wish to convey irrespective of where you are in your journey is: NEVER settle for less. If you settle for less, you will receive less than you deserve and convince yourself you are justified to receive it.\n",
        "\n",
        "\n",
        "“Two people on a precipice over Yosemite Valley” by Nathan Shipps on Unsplash\n",
        "Develop A Powerful Vision Of What You Want\n",
        "“Your problem is to bridge the gap which exists between where you are now and the goal you intend to reach.” — Earl Nightingale\n",
        "I recall a passage my father often used growing up in 1990s: “Don’t tell me your problems unless you’ve spent weeks trying to solve them yourself.” That advice has echoed in my mind for decades and became my motivator. Don’t leave it to other people or outside circumstances to motivate you because you will be let down every time. It must come from within you. Gnaw away at your problems until you solve them or find a solution. Problems are not stop signs, they are advising you that more work is required to overcome them. Most times, problems help you gain a skill or develop the resources to succeed later. So embrace your challenges and develop the grit to push past them instead of retreat in resignation. Where are you settling in your life right now? Could you be you playing for bigger stakes than you are? Are you willing to play bigger even if it means repeated failures and setbacks? You should ask yourself these questions to decide whether you’re willing to put yourself on the line or settle for less. And that’s fine if you’re content to receive less, as long as you’re not regretful later.\n",
        "\n",
        "If you have not achieved the success you deserve and are considering giving up, will you regret it in a few years or decades from now? Only you can answer that, but you should carve out time to discover your motivation for pursuing your goals. It’s a fact, if you don’t know what you want you’ll get what life hands you and it may not be in your best interest, affirms author Larry Weidel: “Winners know that if you don’t figure out what you want, you’ll get whatever life hands you.” The key is to develop a powerful vision of what you want and hold that image in your mind. Nurture it daily and give it life by taking purposeful action towards it.\n",
        "\n",
        "Vision + desire + dedication + patience + daily action leads to astonishing success. Are you willing to commit to this way of life or jump ship at the first sign of failure? I’m amused when I read questions written by millennials on Quora who ask how they can become rich and famous or the next Elon Musk. Success is a fickle and long game with highs and lows. Similarly, there are no assurances even if you’re an overnight sensation, to sustain it for long, particularly if you don’t have the mental and emotional means to endure it. This means you must rely on the one true constant in your favour: your personal development. The more you grow, the more you gain in terms of financial resources, status, success — simple. If you leave it to outside conditions to dictate your circumstances, you are rolling the dice on your future.\n",
        "\n",
        "So become intentional on what you want out of life. Commit to it. Nurture your dreams. Focus on your development and if you want to give up, know what’s involved before you take the plunge. Because I assure you, someone out there right now is working harder than you, reading more books, sleeping less and sacrificing all they have to realise their dreams and it may contest with yours. Don’t leave your dreams to chance.\n",
        "'''"
      ],
      "metadata": {
        "id": "wEfrXk69rfuU"
      },
      "execution_count": 12,
      "outputs": []
    },
    {
      "cell_type": "code",
      "execution_count": 13,
      "metadata": {
        "id": "9zWnLJj8-Weu",
        "colab": {
          "base_uri": "https://localhost:8080/"
        },
        "outputId": "0aa34343-6ce7-4eaa-dd17-2d04e9662934"
      },
      "outputs": [
        {
          "output_type": "stream",
          "name": "stdout",
          "text": [
            "{'\\nThose Who Are ': {'resili': 1.414973347970818, 'stay': 1.414973347970818, 'game': 1.2388820889151366, 'longer': 1.414973347970818, '“': 1.0170333392987803, 'mountain': 1.7160033436347992, 'truth': 1.7160033436347992, 'never': 1.414973347970818, 'climb': 1.7160033436347992, 'vain': 1.7160033436347992, ':': 0.8129133566428556, 'either': 1.7160033436347992, 'reach': 1.7160033436347992, 'point': 1.414973347970818, 'higher': 1.7160033436347992, 'today': 1.7160033436347992, ',': 0.37358066281259295, 'train': 1.7160033436347992, 'power': 1.1139433523068367, 'abl': 1.7160033436347992, 'tomorrow.': 1.7160033436347992, '”': 1.0170333392987803, '—': 1.2388820889151366, 'friedrich': 1.7160033436347992, 'nietzsch': 1.7160033436347992, 'challeng': 1.414973347970818, 'setback': 1.414973347970818, 'meant': 1.7160033436347992, 'defeat': 1.2388820889151366, 'promot': 1.7160033436347992, '.': 0.06279082985945543}, 'However, I real': {'howev': 1.414973347970818, ',': 0.37358066281259295, 'realis': 1.414973347970818, 'mani': 1.2388820889151366, 'year': 1.1139433523068367, 'defeat': 1.2388820889151366, 'crush': 1.7160033436347992, 'spirit': 1.7160033436347992, 'easier': 1.7160033436347992, 'give': 1.1139433523068367, 'risk': 1.7160033436347992, 'setback': 1.414973347970818, 'disappoint': 1.414973347970818, '.': 0.06279082985945543}, 'Have you experi': {'experienc': 1.7160033436347992, 'thi': 1.1139433523068367, 'befor': 1.414973347970818, '?': 0.9378520932511555}, 'To be honest, I': {'honest': 1.7160033436347992, ',': 0.37358066281259295, '’': 0.5118833609788744, 'answer': 1.414973347970818, '.': 0.06279082985945543}, 'I can’t tell yo': {'’': 0.5118833609788744, 'tell': 1.414973347970818, 'right': 1.1139433523068367, 'cours': 1.7160033436347992, 'action': 1.2388820889151366, ';': 1.7160033436347992, 'onli': 1.2388820889151366, 'know': 1.0170333392987803, '.': 0.06279082985945543}, 'However, it’s i': {'howev': 1.414973347970818, ',': 0.37358066281259295, '’': 0.5118833609788744, 'import': 1.7160033436347992, 'discourag': 1.7160033436347992, 'failur': 1.1139433523068367, 'pursu': 1.2388820889151366, 'goal': 1.1139433523068367, 'dream': 0.9378520932511555, 'sinc': 1.7160033436347992, 'mean': 1.1139433523068367, 'differ': 1.2388820889151366, 'thing': 1.414973347970818, 'peopl': 1.2388820889151366, '.': 0.06279082985945543}, 'To a person wit': {'person': 1.1139433523068367, 'fix': 1.7160033436347992, 'mindset': 1.414973347970818, 'failur': 1.1139433523068367, 'blow': 1.7160033436347992, 'self-esteem': 1.7160033436347992, ',': 0.37358066281259295, 'yet': 1.414973347970818, 'growth': 1.7160033436347992, '’': 0.5118833609788744, 'opportun': 1.7160033436347992, 'improv': 1.7160033436347992, 'find': 1.414973347970818, 'new': 1.7160033436347992, 'way': 1.414973347970818, 'overcom': 1.414973347970818, 'obstacl': 1.7160033436347992, '.': 0.06279082985945543}, 'Same failure, y': {'failur': 1.1139433523068367, ',': 0.37358066281259295, 'yet': 1.414973347970818, 'differ': 1.2388820889151366, 'respons': 1.7160033436347992, '.': 0.06279082985945543}, 'Who is right an': {'right': 1.1139433523068367, 'wrong': 1.7160033436347992, '?': 0.9378520932511555}, 'Neither.': {'neither': 1.7160033436347992, '.': 0.06279082985945543}, 'Each person has': {'person': 1.1139433523068367, 'ha': 1.414973347970818, 'differ': 1.2388820889151366, 'mindset': 1.414973347970818, 'decid': 1.414973347970818, 'outcom': 1.7160033436347992, '.': 0.06279082985945543}, 'Those who are r': {'resili': 1.414973347970818, 'stay': 1.414973347970818, 'game': 1.2388820889151366, 'longer': 1.414973347970818, 'draw': 1.7160033436347992, 'inner': 1.7160033436347992, 'mean': 1.1139433523068367, 'succeed': 1.414973347970818, '.': 0.06279082985945543}, 'I’ve coached mu': {'’': 0.5118833609788744, 'coach': 1.7160033436347992, 'mummi': 1.7160033436347992, 'mom': 1.7160033436347992, 'client': 1.7160033436347992, 'gave': 1.7160033436347992, 'mani': 1.2388820889151366, 'year': 1.1139433523068367, 'toil': 1.7160033436347992, 'away': 1.414973347970818, 'respect': 1.7160033436347992, 'goal': 1.1139433523068367, 'dream': 0.9378520932511555, '.': 0.06279082985945543}, 'It was at that ': {'wa': 1.414973347970818, 'point': 1.414973347970818, 'biggest': 1.7160033436347992, 'breakthrough': 1.7160033436347992, 'came': 1.7160033436347992, '.': 0.06279082985945543}, 'Perhaps all tho': {'perhap': 1.7160033436347992, 'year': 1.1139433523068367, 'persever': 1.414973347970818, 'final': 1.7160033436347992, 'paid': 1.7160033436347992, '.': 0.06279082985945543}, 'It was the 19th': {'wa': 1.414973347970818, '19th': 1.7160033436347992, 'centuri': 1.7160033436347992, '’': 0.5118833609788744, 'minist': 1.7160033436347992, 'henri': 1.7160033436347992, 'ward': 1.7160033436347992, 'beecher': 1.7160033436347992, 'onc': 1.7160033436347992, 'said': 1.7160033436347992, ':': 0.8129133566428556, '“': 1.0170333392987803, 'one': 1.2388820889151366, 'best': 1.414973347970818, 'success': 1.0170333392987803, 'come': 1.414973347970818, 'greatest': 1.7160033436347992, 'disappointments.': 1.7160033436347992, '”': 1.0170333392987803, 'know': 1.0170333392987803, 'futur': 1.414973347970818, 'hold': 1.414973347970818, ',': 0.37358066281259295, 'onli': 1.2388820889151366, 'guid': 1.7160033436347992, 'whether': 1.414973347970818, 'endur': 1.414973347970818, 'repeat': 1.7160033436347992, 'defeat': 1.2388820889151366, 'disappoint': 1.414973347970818, 'still': 1.7160033436347992, 'pursu': 1.2388820889151366, 'dream': 0.9378520932511555, '.': 0.06279082985945543}, 'Consider the ad': {'consid': 1.414973347970818, 'advic': 1.414973347970818, 'american': 1.7160033436347992, 'academ': 1.7160033436347992, 'psychologist': 1.7160033436347992, 'angela': 1.7160033436347992, 'duckworth': 1.7160033436347992, 'write': 1.7160033436347992, 'grit': 1.414973347970818, ':': 0.8129133566428556, 'power': 1.1139433523068367, 'passion': 1.7160033436347992, 'persever': 1.414973347970818, '“': 1.0170333392987803, 'mani': 1.2388820889151366, 'us': 1.7160033436347992, ',': 0.37358066281259295, 'seem': 1.7160033436347992, 'quit': 1.7160033436347992, 'start': 1.7160033436347992, 'far': 1.7160033436347992, 'earli': 1.7160033436347992, 'often': 1.414973347970818, '.': 0.06279082985945543}, 'Even more than ': {'even': 1.414973347970818, 'effort': 1.7160033436347992, 'gritti': 1.7160033436347992, 'person': 1.1139433523068367, 'put': 1.414973347970818, 'singl': 1.7160033436347992, 'day': 1.7160033436347992, ',': 0.37358066281259295, 'matter': 1.7160033436347992, 'wake': 1.7160033436347992, 'next': 1.414973347970818, 'readi': 1.7160033436347992, 'get': 1.414973347970818, 'treadmil': 1.7160033436347992, 'keep': 1.7160033436347992, 'going.': 1.7160033436347992, '”': 1.0170333392987803, 'know': 1.0170333392987803, 'one': 1.2388820889151366, 'thing': 1.414973347970818, 'certain': 1.7160033436347992, ':': 0.8129133566428556, '’': 0.5118833609788744, 'settl': 1.0170333392987803, 'less': 0.9378520932511555, 'capabl': 1.7160033436347992, 'strive': 1.7160033436347992, 'someth': 1.7160033436347992, 'bigger': 1.414973347970818, '.': 0.06279082985945543}, 'Some of you rea': {'read': 1.2388820889151366, 'thi': 1.1139433523068367, 'might': 1.414973347970818, 'identifi': 1.7160033436347992, 'messag': 1.414973347970818, 'becaus': 1.2388820889151366, 'reson': 1.7160033436347992, 'deeper': 1.7160033436347992, 'level': 1.7160033436347992, '.': 0.06279082985945543}, 'For others, at ': {',': 0.37358066281259295, 'end': 1.7160033436347992, 'tether': 1.7160033436347992, 'messag': 1.414973347970818, 'might': 1.414973347970818, 'noth': 1.7160033436347992, 'trivial': 1.7160033436347992, 'pep': 1.7160033436347992, 'talk': 1.7160033436347992, '.': 0.06279082985945543}, 'What I wish to ': {'wish': 1.7160033436347992, 'convey': 1.7160033436347992, 'irrespect': 1.7160033436347992, 'journey': 1.7160033436347992, ':': 0.8129133566428556, 'never': 1.414973347970818, 'settl': 1.0170333392987803, 'less': 0.9378520932511555, '.': 0.06279082985945543}, 'If you settle f': {'settl': 1.0170333392987803, 'less': 0.9378520932511555, ',': 0.37358066281259295, 'receiv': 1.414973347970818, 'deserv': 1.414973347970818, 'convinc': 1.7160033436347992, 'justifi': 1.7160033436347992, '.': 0.06279082985945543}, '“Two people on ': {'“': 1.0170333392987803, 'two': 1.7160033436347992, 'peopl': 1.2388820889151366, 'precipic': 1.7160033436347992, 'yosemit': 1.7160033436347992, 'valley': 1.7160033436347992, '”': 1.0170333392987803, 'nathan': 1.7160033436347992, 'shipp': 1.7160033436347992, 'unsplash': 1.7160033436347992, 'develop': 0.9378520932511555, 'power': 1.1139433523068367, 'vision': 1.2388820889151366, 'want': 1.1139433523068367, 'problem': 1.1139433523068367, 'bridg': 1.7160033436347992, 'gap': 1.7160033436347992, 'exist': 1.7160033436347992, 'goal': 1.1139433523068367, 'intend': 1.7160033436347992, 'reach.': 1.7160033436347992, '—': 1.2388820889151366, 'earl': 1.7160033436347992, 'nightingal': 1.7160033436347992, 'recal': 1.7160033436347992, 'passag': 1.7160033436347992, 'father': 1.7160033436347992, 'often': 1.414973347970818, 'use': 1.7160033436347992, 'grow': 1.414973347970818, '1990': 1.7160033436347992, ':': 0.8129133566428556, '’': 0.5118833609788744, 'tell': 1.414973347970818, 'unless': 1.7160033436347992, 'spent': 1.7160033436347992, 'week': 1.7160033436347992, 'tri': 1.7160033436347992, 'solv': 1.414973347970818, 'yourself.': 1.7160033436347992, 'advic': 1.414973347970818, 'ha': 1.414973347970818, 'echo': 1.7160033436347992, 'mind': 1.414973347970818, 'decad': 1.414973347970818, 'becam': 1.7160033436347992, 'motiv': 1.2388820889151366, '.': 0.06279082985945543}, 'Don’t leave it ': {'’': 0.5118833609788744, 'leav': 1.2388820889151366, 'peopl': 1.2388820889151366, 'outsid': 1.414973347970818, 'circumst': 1.414973347970818, 'motiv': 1.2388820889151366, 'becaus': 1.2388820889151366, 'let': 1.7160033436347992, 'everi': 1.7160033436347992, 'time': 1.2388820889151366, '.': 0.06279082985945543}, 'It must come fr': {'must': 1.414973347970818, 'come': 1.414973347970818, 'within': 1.7160033436347992, '.': 0.06279082985945543}, 'Gnaw away at yo': {'gnaw': 1.7160033436347992, 'away': 1.414973347970818, 'problem': 1.1139433523068367, 'solv': 1.414973347970818, 'find': 1.414973347970818, 'solut': 1.7160033436347992, '.': 0.06279082985945543}, 'Problems are no': {'problem': 1.1139433523068367, 'stop': 1.7160033436347992, 'sign': 1.414973347970818, ',': 0.37358066281259295, 'advis': 1.7160033436347992, 'work': 1.414973347970818, 'requir': 1.7160033436347992, 'overcom': 1.414973347970818, '.': 0.06279082985945543}, 'Most times, pro': {'time': 1.2388820889151366, ',': 0.37358066281259295, 'problem': 1.1139433523068367, 'help': 1.7160033436347992, 'gain': 1.414973347970818, 'skill': 1.7160033436347992, 'develop': 0.9378520932511555, 'resourc': 1.414973347970818, 'succeed': 1.414973347970818, 'later': 1.414973347970818, '.': 0.06279082985945543}, 'So embrace your': {'embrac': 1.7160033436347992, 'challeng': 1.414973347970818, 'develop': 0.9378520932511555, 'grit': 1.414973347970818, 'push': 1.7160033436347992, 'past': 1.7160033436347992, 'instead': 1.7160033436347992, 'retreat': 1.7160033436347992, 'resign': 1.7160033436347992, '.': 0.06279082985945543}, 'Where are you s': {'settl': 1.0170333392987803, 'life': 1.0170333392987803, 'right': 1.1139433523068367, '?': 0.9378520932511555}, 'Could you be yo': {'could': 1.7160033436347992, 'play': 1.7160033436347992, 'bigger': 1.414973347970818, 'stake': 1.7160033436347992, '?': 0.9378520932511555}, 'Are you willing': {'commit': 1.414973347970818, 'thi': 1.1139433523068367, 'way': 1.414973347970818, 'life': 1.0170333392987803, 'jump': 1.7160033436347992, 'ship': 1.7160033436347992, 'first': 1.7160033436347992, 'sign': 1.414973347970818, 'failur': 1.1139433523068367, '?': 0.9378520932511555}, 'You should ask ': {'ask': 1.414973347970818, 'question': 1.414973347970818, 'decid': 1.414973347970818, 'whether': 1.414973347970818, '’': 0.5118833609788744, 'put': 1.414973347970818, 'line': 1.7160033436347992, 'settl': 1.0170333392987803, 'less': 0.9378520932511555, '.': 0.06279082985945543}, 'And that’s fine': {'’': 0.5118833609788744, 'fine': 1.7160033436347992, 'content': 1.7160033436347992, 'receiv': 1.414973347970818, 'less': 0.9378520932511555, ',': 0.37358066281259295, 'long': 1.2388820889151366, 'regret': 1.414973347970818, 'later': 1.414973347970818, '.': 0.06279082985945543}, 'If you have not': {'achiev': 1.7160033436347992, 'success': 1.0170333392987803, 'deserv': 1.414973347970818, 'consid': 1.414973347970818, 'give': 1.1139433523068367, ',': 0.37358066281259295, 'regret': 1.414973347970818, 'year': 1.1139433523068367, 'decad': 1.414973347970818, '?': 0.9378520932511555}, 'Only you can an': {'onli': 1.2388820889151366, 'answer': 1.414973347970818, ',': 0.37358066281259295, 'carv': 1.7160033436347992, 'time': 1.2388820889151366, 'discov': 1.7160033436347992, 'motiv': 1.2388820889151366, 'pursu': 1.2388820889151366, 'goal': 1.1139433523068367, '.': 0.06279082985945543}, 'It’s a fact, if': {'’': 0.5118833609788744, 'fact': 1.7160033436347992, ',': 0.37358066281259295, 'know': 1.0170333392987803, 'want': 1.1139433523068367, 'get': 1.414973347970818, 'life': 1.0170333392987803, 'hand': 1.7160033436347992, 'may': 1.414973347970818, 'best': 1.414973347970818, 'interest': 1.7160033436347992, 'affirm': 1.7160033436347992, 'author': 1.7160033436347992, 'larri': 1.7160033436347992, 'weidel': 1.7160033436347992, ':': 0.8129133566428556, '“': 1.0170333392987803, 'winner': 1.7160033436347992, 'figur': 1.7160033436347992, 'whatev': 1.7160033436347992, 'you.': 1.7160033436347992, '”': 1.0170333392987803, 'key': 1.7160033436347992, 'develop': 0.9378520932511555, 'power': 1.1139433523068367, 'vision': 1.2388820889151366, 'hold': 1.414973347970818, 'imag': 1.7160033436347992, 'mind': 1.414973347970818, '.': 0.06279082985945543}, 'Nurture it dail': {'nurtur': 1.414973347970818, 'daili': 1.414973347970818, 'give': 1.1139433523068367, 'life': 1.0170333392987803, 'take': 1.414973347970818, 'purpos': 1.7160033436347992, 'action': 1.2388820889151366, 'toward': 1.7160033436347992, '.': 0.06279082985945543}, 'Vision + desire': {'vision': 1.2388820889151366, '+': 1.7160033436347992, 'desir': 1.7160033436347992, 'dedic': 1.7160033436347992, 'patienc': 1.7160033436347992, 'daili': 1.414973347970818, 'action': 1.2388820889151366, 'lead': 1.7160033436347992, 'astonish': 1.7160033436347992, 'success': 1.0170333392987803, '.': 0.06279082985945543}, 'I’m amused when': {'’': 0.5118833609788744, 'amus': 1.7160033436347992, 'read': 1.2388820889151366, 'question': 1.414973347970818, 'written': 1.7160033436347992, 'millenni': 1.7160033436347992, 'quora': 1.7160033436347992, 'ask': 1.414973347970818, 'becom': 1.414973347970818, 'rich': 1.7160033436347992, 'famou': 1.7160033436347992, 'next': 1.414973347970818, 'elon': 1.7160033436347992, 'musk': 1.7160033436347992, '.': 0.06279082985945543}, 'Success is a fi': {'success': 1.0170333392987803, 'fickl': 1.7160033436347992, 'long': 1.2388820889151366, 'game': 1.2388820889151366, 'high': 1.7160033436347992, 'low': 1.7160033436347992, '.': 0.06279082985945543}, 'Similarly, ther': {'similarli': 1.7160033436347992, ',': 0.37358066281259295, 'assur': 1.414973347970818, 'even': 1.414973347970818, '’': 0.5118833609788744, 'overnight': 1.7160033436347992, 'sensat': 1.7160033436347992, 'sustain': 1.7160033436347992, 'long': 1.2388820889151366, 'particularli': 1.7160033436347992, 'mental': 1.7160033436347992, 'emot': 1.7160033436347992, 'mean': 1.1139433523068367, 'endur': 1.414973347970818, '.': 0.06279082985945543}, 'This means you ': {'thi': 1.1139433523068367, 'mean': 1.1139433523068367, 'must': 1.414973347970818, 'reli': 1.7160033436347992, 'one': 1.2388820889151366, 'true': 1.7160033436347992, 'constant': 1.7160033436347992, 'favour': 1.7160033436347992, ':': 0.8129133566428556, 'person': 1.1139433523068367, 'develop': 0.9378520932511555, '.': 0.06279082985945543}, 'The more you gr': {'grow': 1.414973347970818, ',': 0.37358066281259295, 'gain': 1.414973347970818, 'term': 1.7160033436347992, 'financi': 1.7160033436347992, 'resourc': 1.414973347970818, 'statu': 1.7160033436347992, 'success': 1.0170333392987803, '—': 1.2388820889151366, 'simpl': 1.7160033436347992, '.': 0.06279082985945543}, 'If you leave it': {'leav': 1.2388820889151366, 'outsid': 1.414973347970818, 'condit': 1.7160033436347992, 'dictat': 1.7160033436347992, 'circumst': 1.414973347970818, ',': 0.37358066281259295, 'roll': 1.7160033436347992, 'dice': 1.7160033436347992, 'futur': 1.414973347970818, '.': 0.06279082985945543}, 'So become inten': {'becom': 1.414973347970818, 'intent': 1.7160033436347992, 'want': 1.1139433523068367, 'life': 1.0170333392987803, '.': 0.06279082985945543}, 'Commit to it.': {'commit': 1.414973347970818, '.': 0.06279082985945543}, 'Nurture your dr': {'nurtur': 1.414973347970818, 'dream': 0.9378520932511555, '.': 0.06279082985945543}, 'Focus on your d': {'focu': 1.7160033436347992, 'develop': 0.9378520932511555, 'want': 1.1139433523068367, 'give': 1.1139433523068367, ',': 0.37358066281259295, 'know': 1.0170333392987803, '’': 0.5118833609788744, 'involv': 1.7160033436347992, 'befor': 1.414973347970818, 'take': 1.414973347970818, 'plung': 1.7160033436347992, '.': 0.06279082985945543}, 'Because I assur': {'becaus': 1.2388820889151366, 'assur': 1.414973347970818, ',': 0.37358066281259295, 'someon': 1.7160033436347992, 'right': 1.1139433523068367, 'work': 1.414973347970818, 'harder': 1.7160033436347992, 'read': 1.2388820889151366, 'book': 1.7160033436347992, 'sleep': 1.7160033436347992, 'less': 0.9378520932511555, 'sacrif': 1.7160033436347992, 'realis': 1.414973347970818, 'dream': 0.9378520932511555, 'may': 1.414973347970818, 'contest': 1.7160033436347992, '.': 0.06279082985945543}, 'Don’t leave you': {'’': 0.5118833609788744, 'leav': 1.2388820889151366, 'dream': 0.9378520932511555, 'chanc': 1.7160033436347992, '.': 0.06279082985945543}}\n",
            " Have you experienced this before? Who is right and who is wrong? Neither. It was at that point their biggest breakthrough came. Perhaps all those years of perseverance finally paid off. It must come from within you. Where are you settling in your life right now? Could you be you playing for bigger stakes than you are? So become intentional on what you want out of life. Commit to it. Nurture your dreams.\n"
          ]
        }
      ],
      "source": [
        "summarized_text = run_summarization(text)\n",
        "print(summarized_text)"
      ]
    }
  ]
}